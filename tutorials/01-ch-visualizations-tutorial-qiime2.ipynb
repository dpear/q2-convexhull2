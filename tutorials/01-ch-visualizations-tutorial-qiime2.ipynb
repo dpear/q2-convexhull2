{
 "cells": [
  {
   "cell_type": "markdown",
   "metadata": {},
   "source": [
    "### Convex Hull calculation in QIIME2\n",
    "\n",
    "- If you are working within a QIIME2 environment, generating hulls plots from a table and metadata is simple and requires only two commands.\n",
    "\n",
    "- If you are not using QIIME2, please navigate to the other standalone tutorial provided in this repo."
   ]
  },
  {
   "cell_type": "markdown",
   "metadata": {},
   "source": [
    "### Generate an Ordination\n",
    "\n",
    "- If you have already calculated an ordination as an `PCoAResult` object, you can skip the ordination calculation step.\n",
    "\n",
    "- For this tutorial we will use RPCA, which is described here: [https://github.com/biocore/gemelli](https://github.com/biocore/gemelli)"
   ]
  },
  {
   "cell_type": "code",
   "execution_count": null,
   "metadata": {},
   "outputs": [],
   "source": [
    "! qiime gemelli rpca \\\n",
    "    --i-table data/table.qza \\\n",
    "    --o-biplot data/rpca-biplot.qza \\\n",
    "    --o-distance-matrix data/rpca-dmat.qza"
   ]
  },
  {
   "cell_type": "markdown",
   "metadata": {},
   "source": [
    "Alternatively if you wish to use a QIIME2 builtin distance function you could generate an ordination using the following:"
   ]
  },
  {
   "cell_type": "code",
   "execution_count": null,
   "metadata": {},
   "outputs": [],
   "source": [
    "! qiime diversity beta \\\n",
    "    --i-table data/table.qza \\\n",
    "    --p-metric 'braycurtis' \\\n",
    "    --o-distance-matrix data/braycurtis-dmat.qza \n",
    "    \n",
    "! qiime diversity pcoa \\\n",
    "    --i-distance-matrix data/braycurtis-dmat.qza \\\n",
    "    --o-pcoa data/braycurtis-pcoa.qza"
   ]
  },
  {
   "cell_type": "markdown",
   "metadata": {},
   "source": [
    "### Run `hulls-plots`\n",
    "\n",
    "- Use the command line `hulls-plots` function to generate a QIIME2 visualization.\n",
    "- `qiime convexhull2 hulls-plots --help` will provide more information on the required and optional inputs.\n",
    "- Notably, you can control the angle at which the plots are viewed using the `--p-rotation` parameter and whether or not axes are shown using `--p-axis` "
   ]
  },
  {
   "cell_type": "code",
   "execution_count": 2,
   "metadata": {},
   "outputs": [
    {
     "name": "stdout",
     "output_type": "stream",
     "text": [
      "/Users/daniperry/anaconda3/envs/qiime2-amplicon-2024.5/lib/python3.9/site-packages/qiime2/metadata/io.py:365: FutureWarning: Downcasting behavior in `replace` is deprecated and will be removed in a future version. To retain the old behavior, explicitly call `result.infer_objects(copy=False)`. To opt-in to the future behavior, set `pd.set_option('future.no_silent_downcasting', True)`\n",
      "  series = series.replace('', np.nan)\n",
      "\u001b[32mSaved Visualization to: data/hulls_out.qzv\u001b[0m\n",
      "\u001b[0m"
     ]
    }
   ],
   "source": [
    "!qiime convexhull2 hulls-plots \\\n",
    "    --i-ordination data/rpca-biplot.qza \\\n",
    "    --m-metadata-file data/metadata.tsv \\\n",
    "    --p-groupc 'exposure_type' \\\n",
    "    --p-subjc 'host_subject_id' \\\n",
    "    --p-timec 'age_match' \\\n",
    "    --o-visualization data/hulls_out"
   ]
  },
  {
   "cell_type": "markdown",
   "metadata": {},
   "source": [
    "### Use view to access plots\n",
    "\n",
    "Navigate to [https://view.qiime2.org/](https://view.qiime2.org/) and upload the saved `data/hulls_out.qzv` file in order to view in your browser."
   ]
  },
  {
   "cell_type": "markdown",
   "metadata": {},
   "source": [
    "![qiime2-hulls-viz.png](data/qiime2-hulls-viz.png)"
   ]
  }
 ],
 "metadata": {
  "kernelspec": {
   "display_name": "qiime2-amplicon-2024.5",
   "language": "python",
   "name": "python3"
  },
  "language_info": {
   "codemirror_mode": {
    "name": "ipython",
    "version": 3
   },
   "file_extension": ".py",
   "mimetype": "text/x-python",
   "name": "python",
   "nbconvert_exporter": "python",
   "pygments_lexer": "ipython3",
   "version": "3.9.19"
  }
 },
 "nbformat": 4,
 "nbformat_minor": 2
}
