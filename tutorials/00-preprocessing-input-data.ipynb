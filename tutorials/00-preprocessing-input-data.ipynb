{
 "cells": [
  {
   "cell_type": "code",
   "execution_count": 1,
   "metadata": {},
   "outputs": [],
   "source": [
    "import pandas as pd\n",
    "import biom\n",
    "import qiime2\n",
    "import numpy as np\n",
    "import os\n",
    "import skbio\n",
    "\n",
    "from qiime2.plugins.emperor.actions import (plot, biplot)\n",
    "from qiime2.plugins.diversity.actions import (beta_phylogenetic, pcoa, beta)\n",
    "from qiime2.plugins.feature_table.actions import (rarefy, filter_samples)\n",
    "\n",
    "from qiime2.plugins.taxa.actions import collapse\n",
    "\n",
    "import matplotlib.pyplot as plt\n",
    "plt.rcParams['svg.fonttype'] = 'none'\n",
    "\n",
    "import seaborn as sns\n",
    "\n",
    "# from skbio.stats.ordination import pcoa\n",
    "from scipy import stats\n",
    "%matplotlib inline\n",
    "\n"
   ]
  },
  {
   "cell_type": "markdown",
   "metadata": {},
   "source": [
    "# Processing the input data\n",
    "\n",
    "We will use data from Allaband et. al. 20XX. The table needs to be collapsed and matched to the taxonomy for downstream analyses. We will also aggregate time points to make for hull visualizations with more points."
   ]
  },
  {
   "cell_type": "markdown",
   "metadata": {},
   "source": [
    "One of the most useful applications of a convex hull calculation in the context of a metagenomic study is quantifying the dispersion of different conditions over time."
   ]
  },
  {
   "cell_type": "code",
   "execution_count": 2,
   "metadata": {},
   "outputs": [],
   "source": [
    "qtree = qiime2.Artifact.load('data/chfig-IHIC-new-rooted-tree.qza')\n",
    "\n",
    "qtax = qiime2.Artifact.load('data/chfig-IHIC_taxonomy.qza')\n",
    "tax = qtax.view(pd.DataFrame).to_dict()['Taxon']\n",
    "\n",
    "btab = biom.load_table('data/chfig-Haddad_IHIC_reference-hit.biom')\n",
    "qtab = qiime2.Artifact.import_data('FeatureTable[Frequency]', btab)\n",
    "\n",
    "meta = pd.read_csv('data/chfig-10_week_IH_IC_MetaData.txt', sep='\\t')\n",
    "meta = meta.drop(columns=['dna_extracted', 'physical_specimen_remaining'])\n",
    "ID = 'sample_name'"
   ]
  },
  {
   "cell_type": "code",
   "execution_count": 3,
   "metadata": {},
   "outputs": [
    {
     "name": "stdout",
     "output_type": "stream",
     "text": [
      "mkdir: data/tab/: File exists\n"
     ]
    }
   ],
   "source": [
    "!mkdir data/tab/"
   ]
  },
  {
   "cell_type": "markdown",
   "metadata": {},
   "source": [
    "### Match biom table to taxonomy"
   ]
  },
  {
   "cell_type": "code",
   "execution_count": 4,
   "metadata": {},
   "outputs": [],
   "source": [
    "bids = btab.ids('observation')\n",
    "tids = list(tax.keys())\n",
    "ids = set(bids) & set(tids)\n",
    "\n",
    "fbtab = btab.filter(ids, axis='observation')\n",
    "\n",
    "qfbtab = qiime2.Artifact.import_data('FeatureTable[Frequency]', fbtab)"
   ]
  },
  {
   "cell_type": "code",
   "execution_count": 5,
   "metadata": {},
   "outputs": [
    {
     "data": {
      "text/plain": [
       "'data/taxonomy.qza'"
      ]
     },
     "execution_count": 5,
     "metadata": {},
     "output_type": "execute_result"
    }
   ],
   "source": [
    "taxdf = pd.DataFrame(\n",
    "    {'Feature ID': list(tax.keys()),\n",
    "    'Taxon':list(tax.values())}\n",
    ")\n",
    "taxdf.set_index('Feature ID', inplace=True)\n",
    "qtax = qiime2.Artifact.import_data('FeatureData[Taxonomy]', taxdf)\n",
    "qtax.save('data/taxonomy.qza')"
   ]
  },
  {
   "cell_type": "markdown",
   "metadata": {},
   "source": [
    "### Bin ages "
   ]
  },
  {
   "cell_type": "code",
   "execution_count": 6,
   "metadata": {},
   "outputs": [
    {
     "data": {
      "text/plain": [
       "0       12.0\n",
       "1       16.0\n",
       "2       16.0\n",
       "3       16.0\n",
       "4       18.0\n",
       "        ... \n",
       "1032     NaN\n",
       "1033     NaN\n",
       "1034     NaN\n",
       "1035     NaN\n",
       "1036     NaN\n",
       "Name: age_bin, Length: 1037, dtype: float64"
      ]
     },
     "execution_count": 6,
     "metadata": {},
     "output_type": "execute_result"
    }
   ],
   "source": [
    "def age_map(x):\n",
    "    if x<=12:\n",
    "        return 12\n",
    "    if x >=12 and x < 14:\n",
    "        return 14\n",
    "    if x >=14 and x < 16:\n",
    "        return 16\n",
    "    if x >=16 and x < 18:\n",
    "        return 18\n",
    "    if x >=18:\n",
    "        return 20\n",
    "\n",
    "def age_match(x):\n",
    "    if x == 10.0:\n",
    "        return 10.0\n",
    "    if x == 10.5:\n",
    "        return 10.5\n",
    "    if x == 15.0:\n",
    "        return 15.0\n",
    "    if x == 20.0:\n",
    "        return 20.0\n",
    "    return 'remove'\n",
    "    \n",
    "meta['age_bin'] = meta['host_age'].map(age_map)\n",
    "meta['age_match'] = meta['host_age'].map(age_match)\n",
    "meta['age_bin']"
   ]
  },
  {
   "cell_type": "markdown",
   "metadata": {},
   "source": [
    "### Match metadata to table \n",
    "\n",
    "Filter out blanks from metadata as well."
   ]
  },
  {
   "cell_type": "code",
   "execution_count": 7,
   "metadata": {},
   "outputs": [],
   "source": [
    "def match_meta_to_table(meta, btab, ID='sample_name'):\n",
    "    mids = list(meta[ID])\n",
    "    tids = btab.ids('sample')\n",
    "    \n",
    "    ids = list(set(mids) & set(tids))\n",
    "    \n",
    "    meta = meta.set_index(ID).loc[ids].reset_index()\n",
    "    fbtab = btab.filter(ids, 'sample', inplace=False)\n",
    "    return meta, fbtab\n",
    "    \n",
    "# SUBSET\n",
    "feces = meta['sample_type'] == 'stool'\n",
    "noblanks = ~(meta[ID].str.contains('BLANK'))\n",
    "timepoints = ~(meta['age_match'] == 'remove')\n",
    "m = meta[feces & noblanks & timepoints]\n",
    "\n",
    "# MATCH\n",
    "m, fbtab = match_meta_to_table(m, btab)\n",
    "\n",
    "# SAVE METADATA\n",
    "m.to_csv('data/metadata.tsv', sep='\\t', index=False)\n"
   ]
  },
  {
   "cell_type": "markdown",
   "metadata": {},
   "source": [
    "### Collapse table and save"
   ]
  },
  {
   "cell_type": "code",
   "execution_count": 9,
   "metadata": {},
   "outputs": [],
   "source": [
    "qtab = qiime2.Artifact.import_data('FeatureTable[Frequency]', fbtab)\n",
    "\n",
    "res = collapse(\n",
    "    table=qtab,\n",
    "    taxonomy=qtax,\n",
    "    level=7\n",
    ")\n",
    "res.collapsed_table.save('data/table.qza')\n",
    "\n",
    "btab = res.collapsed_table.view(biom.Table)\n",
    "with biom.util.biom_open('data/table.biom', 'w') as f:\n",
    "    btab.to_hdf5(f, \"example\")"
   ]
  }
 ],
 "metadata": {
  "kernelspec": {
   "display_name": "qiime2-amplicon-2024.5",
   "language": "python",
   "name": "python3"
  },
  "language_info": {
   "codemirror_mode": {
    "name": "ipython",
    "version": 3
   },
   "file_extension": ".py",
   "mimetype": "text/x-python",
   "name": "python",
   "nbconvert_exporter": "python",
   "pygments_lexer": "ipython3",
   "version": "3.9.19"
  }
 },
 "nbformat": 4,
 "nbformat_minor": 2
}
